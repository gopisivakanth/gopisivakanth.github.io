{
 "cells": [
  {
   "cell_type": "markdown",
   "metadata": {
    "deletable": true,
    "editable": true
   },
   "source": [
    "# Talks markdown generator for academicpages\n",
    "\n",
    "Takes a TSV of talks with metadata and converts them for use with [academicpages.github.io](academicpages.github.io). This is an interactive Jupyter notebook ([see more info here](http://jupyter-notebook-beginner-guide.readthedocs.io/en/latest/what_is_jupyter.html)). The core python code is also in `talks.py`. Run either from the `markdown_generator` folder after replacing `talks.tsv` with one containing your data.\n",
    "\n",
    "TODO: Make this work with BibTex and other databases, rather than Stuart's non-standard TSV format and citation style."
   ]
  },
  {
   "cell_type": "code",
   "execution_count": 1,
   "metadata": {
    "collapsed": false,
    "deletable": true,
    "editable": true
   },
   "outputs": [],
   "source": [
    "import pandas as pd\n",
    "import os"
   ]
  },
  {
   "cell_type": "markdown",
   "metadata": {},
   "source": [
    "## Data format\n",
    "\n",
    "The TSV needs to have the following columns: title, type, url_slug, venue, date, location, talk_url, description, with a header at the top. Many of these fields can be blank, but the columns must be in the TSV.\n",
    "\n",
    "- Fields that cannot be blank: `title`, `url_slug`, `date`. All else can be blank. `type` defaults to \"Talk\" \n",
    "- `date` must be formatted as YYYY-MM-DD.\n",
    "- `url_slug` will be the descriptive part of the .md file and the permalink URL for the page about the paper. \n",
    "    - The .md file will be `YYYY-MM-DD-[url_slug].md` and the permalink will be `https://[yourdomain]/talks/YYYY-MM-DD-[url_slug]`\n",
    "    - The combination of `url_slug` and `date` must be unique, as it will be the basis for your filenames\n",
    "\n",
    "This is how the raw file looks (it doesn't look pretty, use a spreadsheet or other program to edit and create)."
   ]
  },
  {
   "cell_type": "code",
   "execution_count": 2,
   "metadata": {
    "collapsed": false
   },
   "outputs": [
    {
     "name": "stderr",
     "output_type": "stream",
     "text": [
      "'cat' is not recognized as an internal or external command,\n",
      "operable program or batch file.\n"
     ]
    }
   ],
   "source": [
    "!cat talks.tsv"
   ]
  },
  {
   "cell_type": "markdown",
   "metadata": {},
   "source": [
    "## Import TSV\n",
    "\n",
    "Pandas makes this easy with the read_csv function. We are using a TSV, so we specify the separator as a tab, or `\\t`.\n",
    "\n",
    "I found it important to put this data in a tab-separated values format, because there are a lot of commas in this kind of data and comma-separated values can get messed up. However, you can modify the import statement, as pandas also has read_excel(), read_json(), and others."
   ]
  },
  {
   "cell_type": "code",
   "execution_count": 3,
   "metadata": {
    "collapsed": false,
    "deletable": true,
    "editable": true
   },
   "outputs": [
    {
     "data": {
      "text/html": [
       "<div>\n",
       "<style scoped>\n",
       "    .dataframe tbody tr th:only-of-type {\n",
       "        vertical-align: middle;\n",
       "    }\n",
       "\n",
       "    .dataframe tbody tr th {\n",
       "        vertical-align: top;\n",
       "    }\n",
       "\n",
       "    .dataframe thead th {\n",
       "        text-align: right;\n",
       "    }\n",
       "</style>\n",
       "<table border=\"1\" class=\"dataframe\">\n",
       "  <thead>\n",
       "    <tr style=\"text-align: right;\">\n",
       "      <th></th>\n",
       "      <th>title</th>\n",
       "      <th>type</th>\n",
       "      <th>url_slug</th>\n",
       "      <th>venue</th>\n",
       "      <th>date</th>\n",
       "      <th>location</th>\n",
       "      <th>talk_url</th>\n",
       "      <th>description</th>\n",
       "    </tr>\n",
       "  </thead>\n",
       "  <tbody>\n",
       "    <tr>\n",
       "      <th>0</th>\n",
       "      <td>2-Server PIR with Sub-polynomial Communication</td>\n",
       "      <td>NaN</td>\n",
       "      <td>2serverpir</td>\n",
       "      <td>Rutgers University</td>\n",
       "      <td>2016-09-16</td>\n",
       "      <td>New Brunswick, NJ</td>\n",
       "      <td>https://youtu.be/mL9iNGH2vVA?si=laERCeYcRBOf73Gg</td>\n",
       "      <td>Zeev Dvir, Sivakanth Gopi, \"2-server PIR with ...</td>\n",
       "    </tr>\n",
       "    <tr>\n",
       "      <th>1</th>\n",
       "      <td>CSPs with Global Modular Constraints</td>\n",
       "      <td>NaN</td>\n",
       "      <td>cspmodular</td>\n",
       "      <td>Institute for Advanced Study (IAS)</td>\n",
       "      <td>2020-03-20</td>\n",
       "      <td>Princeton, NJ</td>\n",
       "      <td>https://youtu.be/JW3z6M82ylM?si=9bYxdphFVwz41box</td>\n",
       "      <td>Joshua Brakensiek, Sivakanth Gopi, Venkatesan ...</td>\n",
       "    </tr>\n",
       "    <tr>\n",
       "      <th>2</th>\n",
       "      <td>Higher Order MDS Codes</td>\n",
       "      <td>NaN</td>\n",
       "      <td>highermds</td>\n",
       "      <td>Simons Institue</td>\n",
       "      <td>2024-04-12</td>\n",
       "      <td>Berkeley, CA</td>\n",
       "      <td>https://www.youtube.com/live/97OzUUNzk2Y?si=A2...</td>\n",
       "      <td>Joshua Brakensiek, Sivakanth Gopi, Visu Makam,...</td>\n",
       "    </tr>\n",
       "    <tr>\n",
       "      <th>3</th>\n",
       "      <td>Spanoids - An Abstraction of Spanning Structur...</td>\n",
       "      <td>NaN</td>\n",
       "      <td>spanoids</td>\n",
       "      <td>Highlights of Algorithms (HALG) 2020</td>\n",
       "      <td>2020-09-02</td>\n",
       "      <td>NaN</td>\n",
       "      <td>https://youtu.be/k5SQJdo9Ce4?si=NAuUCvDCqd5Cn2JW</td>\n",
       "      <td>Zeev Dvir, Sivakanth Gopi, Yuzhou Gu, Avi Wig...</td>\n",
       "    </tr>\n",
       "    <tr>\n",
       "      <th>4</th>\n",
       "      <td>Private Convex Optimization via Exponential Me...</td>\n",
       "      <td>NaN</td>\n",
       "      <td>pcoexp</td>\n",
       "      <td>Boston-area Data Privacy Seminar</td>\n",
       "      <td>2022-04-04</td>\n",
       "      <td>Boston, MA</td>\n",
       "      <td>https://youtu.be/a-Dm9yMaEyU?si=IPb9DM2PEb1BWkXo</td>\n",
       "      <td>Sivakanth Gopi, Yin Lee, Daogao Liu, \"Private ...</td>\n",
       "    </tr>\n",
       "    <tr>\n",
       "      <th>5</th>\n",
       "      <td>Privacy-Preserving Machine Learning</td>\n",
       "      <td>NaN</td>\n",
       "      <td>ppml</td>\n",
       "      <td>Jovian</td>\n",
       "      <td>2023-03-19</td>\n",
       "      <td>Bengaluru, India</td>\n",
       "      <td>https://youtu.be/0xbNIHa4OGQ?si=73E73oNKYWkRPyP4</td>\n",
       "      <td>A general audience talk on privacy preserving ...</td>\n",
       "    </tr>\n",
       "    <tr>\n",
       "      <th>6</th>\n",
       "      <td>Differentially Private Synthetic Data via Foun...</td>\n",
       "      <td>NaN</td>\n",
       "      <td>privevolution</td>\n",
       "      <td>Google Research</td>\n",
       "      <td>2023-06-06</td>\n",
       "      <td>New York City, NY</td>\n",
       "      <td>https://youtu.be/WvCfGPSzaUs?si=kXjqVDob4LRd1nId</td>\n",
       "      <td>Zinan Lin, Sivakanth Gopi, Janardhan Kulkarni,...</td>\n",
       "    </tr>\n",
       "    <tr>\n",
       "      <th>7</th>\n",
       "      <td>Fast and Memory Efficient Differentially Priva...</td>\n",
       "      <td>NaN</td>\n",
       "      <td>dpsgdjl</td>\n",
       "      <td>Google Research</td>\n",
       "      <td>2021-09-29</td>\n",
       "      <td>Mountain View, CA</td>\n",
       "      <td>https://youtu.be/VT6ws2ie-YI?si=DSqhyLdw4qgHKW4Z</td>\n",
       "      <td>Zhiqi Bu, Sivakanth Gopi, Janardhan Kulkarni, ...</td>\n",
       "    </tr>\n",
       "    <tr>\n",
       "      <th>8</th>\n",
       "      <td>Maximally Recoverable Local Reconstruction Codes</td>\n",
       "      <td>NaN</td>\n",
       "      <td>mrlrc</td>\n",
       "      <td>Microsoft Research</td>\n",
       "      <td>2018-02-08</td>\n",
       "      <td>Redmond, WA</td>\n",
       "      <td>https://youtu.be/yJvHNiL_S38?si=IU4-JMC63_-pIthU</td>\n",
       "      <td>Sivakanth Gopi, Venkatesan Guruswami, Sergey Y...</td>\n",
       "    </tr>\n",
       "  </tbody>\n",
       "</table>\n",
       "</div>"
      ],
      "text/plain": [
       "                                               title  type       url_slug  \\\n",
       "0     2-Server PIR with Sub-polynomial Communication   NaN     2serverpir   \n",
       "1               CSPs with Global Modular Constraints   NaN     cspmodular   \n",
       "2                             Higher Order MDS Codes   NaN      highermds   \n",
       "3  Spanoids - An Abstraction of Spanning Structur...   NaN       spanoids   \n",
       "4  Private Convex Optimization via Exponential Me...   NaN         pcoexp   \n",
       "5                Privacy-Preserving Machine Learning   NaN           ppml   \n",
       "6  Differentially Private Synthetic Data via Foun...   NaN  privevolution   \n",
       "7  Fast and Memory Efficient Differentially Priva...   NaN        dpsgdjl   \n",
       "8   Maximally Recoverable Local Reconstruction Codes   NaN          mrlrc   \n",
       "\n",
       "                                  venue        date           location  \\\n",
       "0                    Rutgers University  2016-09-16  New Brunswick, NJ   \n",
       "1    Institute for Advanced Study (IAS)  2020-03-20      Princeton, NJ   \n",
       "2                       Simons Institue  2024-04-12       Berkeley, CA   \n",
       "3  Highlights of Algorithms (HALG) 2020  2020-09-02                NaN   \n",
       "4      Boston-area Data Privacy Seminar  2022-04-04         Boston, MA   \n",
       "5                                Jovian  2023-03-19   Bengaluru, India   \n",
       "6                       Google Research  2023-06-06  New York City, NY   \n",
       "7                       Google Research  2021-09-29  Mountain View, CA   \n",
       "8                    Microsoft Research  2018-02-08        Redmond, WA   \n",
       "\n",
       "                                            talk_url  \\\n",
       "0   https://youtu.be/mL9iNGH2vVA?si=laERCeYcRBOf73Gg   \n",
       "1   https://youtu.be/JW3z6M82ylM?si=9bYxdphFVwz41box   \n",
       "2  https://www.youtube.com/live/97OzUUNzk2Y?si=A2...   \n",
       "3   https://youtu.be/k5SQJdo9Ce4?si=NAuUCvDCqd5Cn2JW   \n",
       "4   https://youtu.be/a-Dm9yMaEyU?si=IPb9DM2PEb1BWkXo   \n",
       "5   https://youtu.be/0xbNIHa4OGQ?si=73E73oNKYWkRPyP4   \n",
       "6   https://youtu.be/WvCfGPSzaUs?si=kXjqVDob4LRd1nId   \n",
       "7   https://youtu.be/VT6ws2ie-YI?si=DSqhyLdw4qgHKW4Z   \n",
       "8   https://youtu.be/yJvHNiL_S38?si=IU4-JMC63_-pIthU   \n",
       "\n",
       "                                         description  \n",
       "0  Zeev Dvir, Sivakanth Gopi, \"2-server PIR with ...  \n",
       "1  Joshua Brakensiek, Sivakanth Gopi, Venkatesan ...  \n",
       "2  Joshua Brakensiek, Sivakanth Gopi, Visu Makam,...  \n",
       "3   Zeev Dvir, Sivakanth Gopi, Yuzhou Gu, Avi Wig...  \n",
       "4  Sivakanth Gopi, Yin Lee, Daogao Liu, \"Private ...  \n",
       "5  A general audience talk on privacy preserving ...  \n",
       "6  Zinan Lin, Sivakanth Gopi, Janardhan Kulkarni,...  \n",
       "7  Zhiqi Bu, Sivakanth Gopi, Janardhan Kulkarni, ...  \n",
       "8  Sivakanth Gopi, Venkatesan Guruswami, Sergey Y...  "
      ]
     },
     "execution_count": 3,
     "metadata": {},
     "output_type": "execute_result"
    }
   ],
   "source": [
    "talks = pd.read_csv(\"talks.tsv\", sep=\"\\t\", header=0)\n",
    "talks"
   ]
  },
  {
   "cell_type": "markdown",
   "metadata": {},
   "source": [
    "## Escape special characters\n",
    "\n",
    "YAML is very picky about how it takes a valid string, so we are replacing single and double quotes (and ampersands) with their HTML encoded equivilents. This makes them look not so readable in raw format, but they are parsed and rendered nicely."
   ]
  },
  {
   "cell_type": "code",
   "execution_count": 4,
   "metadata": {
    "collapsed": false,
    "deletable": true,
    "editable": true
   },
   "outputs": [],
   "source": [
    "html_escape_table = {\n",
    "    \"&\": \"&amp;\",\n",
    "    '\"': \"&quot;\",\n",
    "    \"'\": \"&apos;\"\n",
    "    }\n",
    "\n",
    "def html_escape(text):\n",
    "    if type(text) is str:\n",
    "        return \"\".join(html_escape_table.get(c,c) for c in text)\n",
    "    else:\n",
    "        return \"False\""
   ]
  },
  {
   "cell_type": "markdown",
   "metadata": {},
   "source": [
    "## Creating the markdown files\n",
    "\n",
    "This is where the heavy lifting is done. This loops through all the rows in the TSV dataframe, then starts to concatentate a big string (```md```) that contains the markdown for each type. It does the YAML metadata first, then does the description for the individual page."
   ]
  },
  {
   "cell_type": "code",
   "execution_count": 5,
   "metadata": {
    "collapsed": false,
    "deletable": true,
    "editable": true
   },
   "outputs": [],
   "source": [
    "loc_dict = {}\n",
    "\n",
    "for row, item in talks.iterrows():\n",
    "    \n",
    "    md_filename = str(item.date) + \"-\" + item.url_slug + \".md\"\n",
    "    html_filename = str(item.date) + \"-\" + item.url_slug \n",
    "    year = item.date[:4]\n",
    "    \n",
    "    md = \"---\\ntitle: \\\"\"   + item.title + '\"\\n'\n",
    "    md += \"collection: talks\" + \"\\n\"\n",
    "    \n",
    "    if len(str(item.type)) > 3:\n",
    "        md += 'type: \"' + item.type + '\"\\n'\n",
    "    else:\n",
    "        md += 'type: \"Talk\"\\n'\n",
    "    \n",
    "    md += \"permalink: /talks/\" + html_filename + \"\\n\"\n",
    "    \n",
    "    if len(str(item.venue)) > 3:\n",
    "        md += 'venue: \"' + item.venue + '\"\\n'\n",
    "        \n",
    "    if len(str(item.location)) > 3:\n",
    "        md += \"date: \" + str(item.date) + \"\\n\"\n",
    "    \n",
    "    if len(str(item.location)) > 3:\n",
    "        md += 'location: \"' + str(item.location) + '\"\\n'\n",
    "           \n",
    "    md += \"---\\n\"\n",
    "    \n",
    "    \n",
    "    if len(str(item.talk_url)) > 3:\n",
    "        md += \"\\n[Link](\" + item.talk_url + \")\\n\" \n",
    "        \n",
    "    \n",
    "    if len(str(item.description)) > 3:\n",
    "        md += \"\\n\" + html_escape(item.description) + \"\\n\"\n",
    "        \n",
    "        \n",
    "    md_filename = os.path.basename(md_filename)\n",
    "    #print(md)\n",
    "    \n",
    "    with open(\"../_talks/\" + md_filename, 'w') as f:\n",
    "        f.write(md)"
   ]
  },
  {
   "cell_type": "markdown",
   "metadata": {},
   "source": [
    "These files are in the talks directory, one directory below where we're working from."
   ]
  },
  {
   "cell_type": "code",
   "execution_count": 6,
   "metadata": {
    "collapsed": false,
    "deletable": true,
    "editable": true
   },
   "outputs": [
    {
     "name": "stderr",
     "output_type": "stream",
     "text": [
      "'ls' is not recognized as an internal or external command,\n",
      "operable program or batch file.\n"
     ]
    }
   ],
   "source": [
    "!ls ../_talks"
   ]
  },
  {
   "cell_type": "code",
   "execution_count": 7,
   "metadata": {
    "collapsed": false,
    "deletable": true,
    "editable": true
   },
   "outputs": [
    {
     "name": "stderr",
     "output_type": "stream",
     "text": [
      "'cat' is not recognized as an internal or external command,\n",
      "operable program or batch file.\n"
     ]
    }
   ],
   "source": [
    "!cat ../_talks/2013-03-01-tutorial-1.md"
   ]
  }
 ],
 "metadata": {
  "kernelspec": {
   "display_name": "Python 3",
   "language": "python",
   "name": "python3"
  },
  "language_info": {
   "codemirror_mode": {
    "name": "ipython",
    "version": 3
   },
   "file_extension": ".py",
   "mimetype": "text/x-python",
   "name": "python",
   "nbconvert_exporter": "python",
   "pygments_lexer": "ipython3",
   "version": "3.11.9"
  }
 },
 "nbformat": 4,
 "nbformat_minor": 0
}
